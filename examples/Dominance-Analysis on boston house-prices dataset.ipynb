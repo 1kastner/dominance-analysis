{
 "cells": [
  {
   "cell_type": "code",
   "execution_count": 1,
   "metadata": {},
   "outputs": [
    {
     "data": {
      "text/html": [
       "<script>requirejs.config({paths: { 'plotly': ['https://cdn.plot.ly/plotly-latest.min']},});if(!window.Plotly) {{require(['plotly'],function(plotly) {window.Plotly=plotly;});}}</script>"
      ],
      "text/vnd.plotly.v1+html": [
       "<script>requirejs.config({paths: { 'plotly': ['https://cdn.plot.ly/plotly-latest.min']},});if(!window.Plotly) {{require(['plotly'],function(plotly) {window.Plotly=plotly;});}}</script>"
      ]
     },
     "metadata": {},
     "output_type": "display_data"
    }
   ],
   "source": [
    "import numpy as np # linear algebra\n",
    "import pandas as pd # data processing, CSV file I/O (e.g. pd.read_csv)\n",
    "from dominance_analysis import Dominance_Datasets\n",
    "from dominance_analysis import Dominance"
   ]
  },
  {
   "cell_type": "code",
   "execution_count": 2,
   "metadata": {},
   "outputs": [
    {
     "name": "stdout",
     "output_type": "stream",
     "text": [
      "The copy of Boston Housing Dataset is downloaded from: https://www.cs.toronto.edu/~delve/data/boston/bostonDetail.html\n",
      "Internally using load_boston function from sklearn.datasets \n"
     ]
    }
   ],
   "source": [
    "boston_dataset=Dominance_Datasets.get_boston()"
   ]
  },
  {
   "cell_type": "code",
   "execution_count": 3,
   "metadata": {},
   "outputs": [
    {
     "data": {
      "text/html": [
       "<div>\n",
       "<style scoped>\n",
       "    .dataframe tbody tr th:only-of-type {\n",
       "        vertical-align: middle;\n",
       "    }\n",
       "\n",
       "    .dataframe tbody tr th {\n",
       "        vertical-align: top;\n",
       "    }\n",
       "\n",
       "    .dataframe thead th {\n",
       "        text-align: right;\n",
       "    }\n",
       "</style>\n",
       "<table border=\"1\" class=\"dataframe\">\n",
       "  <thead>\n",
       "    <tr style=\"text-align: right;\">\n",
       "      <th></th>\n",
       "      <th>CRIM</th>\n",
       "      <th>ZN</th>\n",
       "      <th>INDUS</th>\n",
       "      <th>CHAS</th>\n",
       "      <th>NOX</th>\n",
       "      <th>RM</th>\n",
       "      <th>AGE</th>\n",
       "      <th>DIS</th>\n",
       "      <th>RAD</th>\n",
       "      <th>TAX</th>\n",
       "      <th>PTRATIO</th>\n",
       "      <th>B</th>\n",
       "      <th>LSTAT</th>\n",
       "      <th>House_Price</th>\n",
       "    </tr>\n",
       "  </thead>\n",
       "  <tbody>\n",
       "    <tr>\n",
       "      <th>0</th>\n",
       "      <td>0.00632</td>\n",
       "      <td>18.0</td>\n",
       "      <td>2.31</td>\n",
       "      <td>0.0</td>\n",
       "      <td>0.538</td>\n",
       "      <td>6.575</td>\n",
       "      <td>65.2</td>\n",
       "      <td>4.0900</td>\n",
       "      <td>1.0</td>\n",
       "      <td>296.0</td>\n",
       "      <td>15.3</td>\n",
       "      <td>396.90</td>\n",
       "      <td>4.98</td>\n",
       "      <td>24.0</td>\n",
       "    </tr>\n",
       "    <tr>\n",
       "      <th>1</th>\n",
       "      <td>0.02731</td>\n",
       "      <td>0.0</td>\n",
       "      <td>7.07</td>\n",
       "      <td>0.0</td>\n",
       "      <td>0.469</td>\n",
       "      <td>6.421</td>\n",
       "      <td>78.9</td>\n",
       "      <td>4.9671</td>\n",
       "      <td>2.0</td>\n",
       "      <td>242.0</td>\n",
       "      <td>17.8</td>\n",
       "      <td>396.90</td>\n",
       "      <td>9.14</td>\n",
       "      <td>21.6</td>\n",
       "    </tr>\n",
       "    <tr>\n",
       "      <th>2</th>\n",
       "      <td>0.02729</td>\n",
       "      <td>0.0</td>\n",
       "      <td>7.07</td>\n",
       "      <td>0.0</td>\n",
       "      <td>0.469</td>\n",
       "      <td>7.185</td>\n",
       "      <td>61.1</td>\n",
       "      <td>4.9671</td>\n",
       "      <td>2.0</td>\n",
       "      <td>242.0</td>\n",
       "      <td>17.8</td>\n",
       "      <td>392.83</td>\n",
       "      <td>4.03</td>\n",
       "      <td>34.7</td>\n",
       "    </tr>\n",
       "    <tr>\n",
       "      <th>3</th>\n",
       "      <td>0.03237</td>\n",
       "      <td>0.0</td>\n",
       "      <td>2.18</td>\n",
       "      <td>0.0</td>\n",
       "      <td>0.458</td>\n",
       "      <td>6.998</td>\n",
       "      <td>45.8</td>\n",
       "      <td>6.0622</td>\n",
       "      <td>3.0</td>\n",
       "      <td>222.0</td>\n",
       "      <td>18.7</td>\n",
       "      <td>394.63</td>\n",
       "      <td>2.94</td>\n",
       "      <td>33.4</td>\n",
       "    </tr>\n",
       "    <tr>\n",
       "      <th>4</th>\n",
       "      <td>0.06905</td>\n",
       "      <td>0.0</td>\n",
       "      <td>2.18</td>\n",
       "      <td>0.0</td>\n",
       "      <td>0.458</td>\n",
       "      <td>7.147</td>\n",
       "      <td>54.2</td>\n",
       "      <td>6.0622</td>\n",
       "      <td>3.0</td>\n",
       "      <td>222.0</td>\n",
       "      <td>18.7</td>\n",
       "      <td>396.90</td>\n",
       "      <td>5.33</td>\n",
       "      <td>36.2</td>\n",
       "    </tr>\n",
       "  </tbody>\n",
       "</table>\n",
       "</div>"
      ],
      "text/plain": [
       "      CRIM    ZN  INDUS  CHAS    NOX     RM   AGE     DIS  RAD    TAX  \\\n",
       "0  0.00632  18.0   2.31   0.0  0.538  6.575  65.2  4.0900  1.0  296.0   \n",
       "1  0.02731   0.0   7.07   0.0  0.469  6.421  78.9  4.9671  2.0  242.0   \n",
       "2  0.02729   0.0   7.07   0.0  0.469  7.185  61.1  4.9671  2.0  242.0   \n",
       "3  0.03237   0.0   2.18   0.0  0.458  6.998  45.8  6.0622  3.0  222.0   \n",
       "4  0.06905   0.0   2.18   0.0  0.458  7.147  54.2  6.0622  3.0  222.0   \n",
       "\n",
       "   PTRATIO       B  LSTAT  House_Price  \n",
       "0     15.3  396.90   4.98         24.0  \n",
       "1     17.8  396.90   9.14         21.6  \n",
       "2     17.8  392.83   4.03         34.7  \n",
       "3     18.7  394.63   2.94         33.4  \n",
       "4     18.7  396.90   5.33         36.2  "
      ]
     },
     "execution_count": 3,
     "metadata": {},
     "output_type": "execute_result"
    }
   ],
   "source": [
    "boston_dataset.head()"
   ]
  },
  {
   "cell_type": "code",
   "execution_count": 9,
   "metadata": {},
   "outputs": [
    {
     "name": "stdout",
     "output_type": "stream",
     "text": [
      "Selecting 13 Best Predictors for the Model\n",
      "Selected Predictors :  ['CRIM', 'ZN', 'INDUS', 'CHAS', 'NOX', 'RM', 'AGE', 'DIS', 'RAD', 'TAX', 'PTRATIO', 'B', 'LSTAT']\n",
      "\n",
      "********************  R-Squared of Complete Model :  ********************\n",
      "R Squared : 0.7406077428649427\n",
      "\n"
     ]
    }
   ],
   "source": [
    "dominance_regression=Dominance(data=boston_dataset,target='House_Price',objective=1)"
   ]
  },
  {
   "cell_type": "code",
   "execution_count": 10,
   "metadata": {},
   "outputs": [
    {
     "name": "stdout",
     "output_type": "stream",
     "text": [
      "Selecting 13 Best Predictors for the Model\n",
      "Selected Predictors :  ['CRIM', 'ZN', 'INDUS', 'CHAS', 'NOX', 'RM', 'AGE', 'DIS', 'RAD', 'TAX', 'PTRATIO', 'B', 'LSTAT']\n",
      "\n",
      "Creating models for 8191 possible combinations of 13 features :\n"
     ]
    },
    {
     "name": "stderr",
     "output_type": "stream",
     "text": [
      "100%|██████████████████████████████████████████████████████████████████████████████████| 13/13 [00:20<00:00,  1.61s/it]\n"
     ]
    },
    {
     "name": "stdout",
     "output_type": "stream",
     "text": [
      "#########################  Model Training Done!!!!!  #########################\n",
      "\n",
      "#########################  Calculating Variable Dominances  #########################\n"
     ]
    },
    {
     "name": "stderr",
     "output_type": "stream",
     "text": [
      "100%|██████████████████████████████████████████████████████████████████████████████████| 12/12 [00:12<00:00,  1.05s/it]\n"
     ]
    },
    {
     "name": "stdout",
     "output_type": "stream",
     "text": [
      "#########################  Variable Dominance Calculation Done!!!!!  #########################\n",
      "\n"
     ]
    },
    {
     "data": {
      "text/plain": [
       "{'AGE': 0.022049006526489962,\n",
       " 'B': 0.023021256184221326,\n",
       " 'CHAS': 0.015855227687450416,\n",
       " 'CRIM': 0.026774808088344253,\n",
       " 'DIS': 0.030276848017104434,\n",
       " 'INDUS': 0.03779455085068525,\n",
       " 'LSTAT': 0.2005339793811771,\n",
       " 'NOX': 0.03345529257942131,\n",
       " 'PTRATIO': 0.0785643322942559,\n",
       " 'RAD': 0.023625151114745405,\n",
       " 'RM': 0.18703153438360542,\n",
       " 'TAX': 0.036817907412350456,\n",
       " 'ZN': 0.024807848345091477}"
      ]
     },
     "execution_count": 10,
     "metadata": {},
     "output_type": "execute_result"
    }
   ],
   "source": [
    "dominance_regression.incremental_rsquare()"
   ]
  },
  {
   "cell_type": "code",
   "execution_count": 11,
   "metadata": {
    "scrolled": true
   },
   "outputs": [
    {
     "data": {
      "application/vnd.plotly.v1+json": {
       "data": [
        {
         "marker": {
          "color": "rgba(226, 74, 51, 0.6)",
          "line": {
           "color": "rgba(226, 74, 51, 1.0)",
           "width": 1
          }
         },
         "name": "incremental_r2",
         "orientation": "v",
         "text": "",
         "type": "bar",
         "x": [
          "LSTAT",
          "RM",
          "PTRATIO",
          "INDUS",
          "TAX",
          "NOX",
          "DIS",
          "CRIM",
          "ZN",
          "RAD",
          "B",
          "AGE",
          "CHAS"
         ],
         "y": [
          0.2005339793811771,
          0.18703153438360542,
          0.0785643322942559,
          0.03779455085068525,
          0.036817907412350456,
          0.03345529257942131,
          0.030276848017104434,
          0.026774808088344253,
          0.024807848345091477,
          0.023625151114745405,
          0.023021256184221326,
          0.022049006526489962,
          0.015855227687450416
         ]
        }
       ],
       "layout": {
        "legend": {
         "bgcolor": "#FFFFFF",
         "font": {
          "color": "#666666"
         }
        },
        "paper_bgcolor": "#FFFFFF",
        "plot_bgcolor": "#E5E5E5",
        "title": "Incremetal  R Squared for Top 13 Variables ",
        "titlefont": {
         "color": "#151516"
        },
        "xaxis1": {
         "gridcolor": "#F6F6F6",
         "showgrid": true,
         "tickfont": {
          "color": "#666666"
         },
         "title": "Estimators",
         "titlefont": {
          "color": "#666666"
         },
         "zerolinecolor": "#F6F6F6"
        },
        "yaxis1": {
         "gridcolor": "#F6F6F6",
         "showgrid": true,
         "tickfont": {
          "color": "#666666"
         },
         "title": "Incremental R2",
         "titlefont": {
          "color": "#666666"
         },
         "zerolinecolor": "#F6F6F6"
        }
       }
      },
      "text/html": [
       "<div id=\"21da37fe-fcbd-43e5-be1c-69413c1c01a6\" style=\"height: 525px; width: 100%;\" class=\"plotly-graph-div\"></div><script type=\"text/javascript\">require([\"plotly\"], function(Plotly) { window.PLOTLYENV=window.PLOTLYENV || {};window.PLOTLYENV.BASE_URL=\"https://plot.ly\";Plotly.newPlot(\"21da37fe-fcbd-43e5-be1c-69413c1c01a6\", [{\"name\": \"incremental_r2\", \"y\": [0.2005339793811771, 0.18703153438360542, 0.0785643322942559, 0.03779455085068525, 0.036817907412350456, 0.03345529257942131, 0.030276848017104434, 0.026774808088344253, 0.024807848345091477, 0.023625151114745405, 0.023021256184221326, 0.022049006526489962, 0.015855227687450416], \"type\": \"bar\", \"text\": \"\", \"orientation\": \"v\", \"x\": [\"LSTAT\", \"RM\", \"PTRATIO\", \"INDUS\", \"TAX\", \"NOX\", \"DIS\", \"CRIM\", \"ZN\", \"RAD\", \"B\", \"AGE\", \"CHAS\"], \"marker\": {\"line\": {\"width\": 1, \"color\": \"rgba(226, 74, 51, 1.0)\"}, \"color\": \"rgba(226, 74, 51, 0.6)\"}}], {\"legend\": {\"font\": {\"color\": \"#666666\"}, \"bgcolor\": \"#FFFFFF\"}, \"paper_bgcolor\": \"#FFFFFF\", \"titlefont\": {\"color\": \"#151516\"}, \"title\": \"Incremetal  R Squared for Top 13 Variables \", \"xaxis1\": {\"zerolinecolor\": \"#F6F6F6\", \"titlefont\": {\"color\": \"#666666\"}, \"title\": \"Estimators\", \"tickfont\": {\"color\": \"#666666\"}, \"showgrid\": true, \"gridcolor\": \"#F6F6F6\"}, \"yaxis1\": {\"zerolinecolor\": \"#F6F6F6\", \"titlefont\": {\"color\": \"#666666\"}, \"title\": \"Incremental R2\", \"tickfont\": {\"color\": \"#666666\"}, \"showgrid\": true, \"gridcolor\": \"#F6F6F6\"}, \"plot_bgcolor\": \"#E5E5E5\"}, {\"linkText\": \"Export to plot.ly\", \"showLink\": true})});</script>"
      ],
      "text/vnd.plotly.v1+html": [
       "<div id=\"21da37fe-fcbd-43e5-be1c-69413c1c01a6\" style=\"height: 525px; width: 100%;\" class=\"plotly-graph-div\"></div><script type=\"text/javascript\">require([\"plotly\"], function(Plotly) { window.PLOTLYENV=window.PLOTLYENV || {};window.PLOTLYENV.BASE_URL=\"https://plot.ly\";Plotly.newPlot(\"21da37fe-fcbd-43e5-be1c-69413c1c01a6\", [{\"name\": \"incremental_r2\", \"y\": [0.2005339793811771, 0.18703153438360542, 0.0785643322942559, 0.03779455085068525, 0.036817907412350456, 0.03345529257942131, 0.030276848017104434, 0.026774808088344253, 0.024807848345091477, 0.023625151114745405, 0.023021256184221326, 0.022049006526489962, 0.015855227687450416], \"type\": \"bar\", \"text\": \"\", \"orientation\": \"v\", \"x\": [\"LSTAT\", \"RM\", \"PTRATIO\", \"INDUS\", \"TAX\", \"NOX\", \"DIS\", \"CRIM\", \"ZN\", \"RAD\", \"B\", \"AGE\", \"CHAS\"], \"marker\": {\"line\": {\"width\": 1, \"color\": \"rgba(226, 74, 51, 1.0)\"}, \"color\": \"rgba(226, 74, 51, 0.6)\"}}], {\"legend\": {\"font\": {\"color\": \"#666666\"}, \"bgcolor\": \"#FFFFFF\"}, \"paper_bgcolor\": \"#FFFFFF\", \"titlefont\": {\"color\": \"#151516\"}, \"title\": \"Incremetal  R Squared for Top 13 Variables \", \"xaxis1\": {\"zerolinecolor\": \"#F6F6F6\", \"titlefont\": {\"color\": \"#666666\"}, \"title\": \"Estimators\", \"tickfont\": {\"color\": \"#666666\"}, \"showgrid\": true, \"gridcolor\": \"#F6F6F6\"}, \"yaxis1\": {\"zerolinecolor\": \"#F6F6F6\", \"titlefont\": {\"color\": \"#666666\"}, \"title\": \"Incremental R2\", \"tickfont\": {\"color\": \"#666666\"}, \"showgrid\": true, \"gridcolor\": \"#F6F6F6\"}, \"plot_bgcolor\": \"#E5E5E5\"}, {\"linkText\": \"Export to plot.ly\", \"showLink\": true})});</script>"
      ]
     },
     "metadata": {},
     "output_type": "display_data"
    },
    {
     "data": {
      "application/vnd.plotly.v1+json": {
       "data": [
        {
         "labels": [
          "LSTAT",
          "RM",
          "PTRATIO",
          "INDUS",
          "TAX",
          "NOX",
          "DIS",
          "CRIM",
          "ZN",
          "RAD",
          "B",
          "AGE",
          "CHAS"
         ],
         "marker": {
          "colors": [
           "rgba(226, 74, 51, 1.0)",
           "rgba(62, 111, 176, 1.0)",
           "rgba(132, 118, 202, 1.0)",
           "rgba(101, 101, 101, 1.0)",
           "rgba(251, 193, 94, 1.0)",
           "rgba(142, 186, 66, 1.0)",
           "rgba(255, 181, 184, 1.0)",
           "rgba(255, 181, 184, 0.8999999999999999)",
           "rgba(226, 74, 51, 0.8999999999999999)",
           "rgba(62, 111, 176, 0.8999999999999999)",
           "rgba(132, 118, 202, 0.8999999999999999)",
           "rgba(101, 101, 101, 0.8999999999999999)",
           "rgba(251, 193, 94, 0.8999999999999999)"
          ]
         },
         "name": "",
         "type": "pie",
         "values": [
          27.076948804969014,
          25.253791387610768,
          10.608089511775857,
          5.103180626289707,
          4.9713100851370084,
          4.517275562094983,
          4.0881084904652045,
          3.6152481993733234,
          3.3496609486049405,
          3.1899681501241997,
          3.10842769414841,
          2.9771504198965446,
          2.1408401195100355
         ]
        }
       ],
       "layout": {
        "legend": {
         "bgcolor": "#FFFFFF",
         "font": {
          "color": "#666666"
         }
        },
        "paper_bgcolor": "#FFFFFF",
        "plot_bgcolor": "#E5E5E5",
        "title": "Percentage Relative Importance for Top 13 Variables ",
        "titlefont": {
         "color": "#151516"
        }
       }
      },
      "text/html": [
       "<div id=\"7b43f3c8-c791-4daf-93e3-aa76814c5c2e\" style=\"height: 525px; width: 100%;\" class=\"plotly-graph-div\"></div><script type=\"text/javascript\">require([\"plotly\"], function(Plotly) { window.PLOTLYENV=window.PLOTLYENV || {};window.PLOTLYENV.BASE_URL=\"https://plot.ly\";Plotly.newPlot(\"7b43f3c8-c791-4daf-93e3-aa76814c5c2e\", [{\"name\": \"\", \"type\": \"pie\", \"labels\": [\"LSTAT\", \"RM\", \"PTRATIO\", \"INDUS\", \"TAX\", \"NOX\", \"DIS\", \"CRIM\", \"ZN\", \"RAD\", \"B\", \"AGE\", \"CHAS\"], \"marker\": {\"colors\": [\"rgba(226, 74, 51, 1.0)\", \"rgba(62, 111, 176, 1.0)\", \"rgba(132, 118, 202, 1.0)\", \"rgba(101, 101, 101, 1.0)\", \"rgba(251, 193, 94, 1.0)\", \"rgba(142, 186, 66, 1.0)\", \"rgba(255, 181, 184, 1.0)\", \"rgba(255, 181, 184, 0.8999999999999999)\", \"rgba(226, 74, 51, 0.8999999999999999)\", \"rgba(62, 111, 176, 0.8999999999999999)\", \"rgba(132, 118, 202, 0.8999999999999999)\", \"rgba(101, 101, 101, 0.8999999999999999)\", \"rgba(251, 193, 94, 0.8999999999999999)\"]}, \"values\": [27.076948804969014, 25.253791387610768, 10.608089511775857, 5.103180626289707, 4.9713100851370084, 4.517275562094983, 4.0881084904652045, 3.6152481993733234, 3.3496609486049405, 3.1899681501241997, 3.10842769414841, 2.9771504198965446, 2.1408401195100355]}], {\"legend\": {\"font\": {\"color\": \"#666666\"}, \"bgcolor\": \"#FFFFFF\"}, \"paper_bgcolor\": \"#FFFFFF\", \"titlefont\": {\"color\": \"#151516\"}, \"plot_bgcolor\": \"#E5E5E5\", \"title\": \"Percentage Relative Importance for Top 13 Variables \"}, {\"linkText\": \"Export to plot.ly\", \"showLink\": true})});</script>"
      ],
      "text/vnd.plotly.v1+html": [
       "<div id=\"7b43f3c8-c791-4daf-93e3-aa76814c5c2e\" style=\"height: 525px; width: 100%;\" class=\"plotly-graph-div\"></div><script type=\"text/javascript\">require([\"plotly\"], function(Plotly) { window.PLOTLYENV=window.PLOTLYENV || {};window.PLOTLYENV.BASE_URL=\"https://plot.ly\";Plotly.newPlot(\"7b43f3c8-c791-4daf-93e3-aa76814c5c2e\", [{\"name\": \"\", \"type\": \"pie\", \"labels\": [\"LSTAT\", \"RM\", \"PTRATIO\", \"INDUS\", \"TAX\", \"NOX\", \"DIS\", \"CRIM\", \"ZN\", \"RAD\", \"B\", \"AGE\", \"CHAS\"], \"marker\": {\"colors\": [\"rgba(226, 74, 51, 1.0)\", \"rgba(62, 111, 176, 1.0)\", \"rgba(132, 118, 202, 1.0)\", \"rgba(101, 101, 101, 1.0)\", \"rgba(251, 193, 94, 1.0)\", \"rgba(142, 186, 66, 1.0)\", \"rgba(255, 181, 184, 1.0)\", \"rgba(255, 181, 184, 0.8999999999999999)\", \"rgba(226, 74, 51, 0.8999999999999999)\", \"rgba(62, 111, 176, 0.8999999999999999)\", \"rgba(132, 118, 202, 0.8999999999999999)\", \"rgba(101, 101, 101, 0.8999999999999999)\", \"rgba(251, 193, 94, 0.8999999999999999)\"]}, \"values\": [27.076948804969014, 25.253791387610768, 10.608089511775857, 5.103180626289707, 4.9713100851370084, 4.517275562094983, 4.0881084904652045, 3.6152481993733234, 3.3496609486049405, 3.1899681501241997, 3.10842769414841, 2.9771504198965446, 2.1408401195100355]}], {\"legend\": {\"font\": {\"color\": \"#666666\"}, \"bgcolor\": \"#FFFFFF\"}, \"paper_bgcolor\": \"#FFFFFF\", \"titlefont\": {\"color\": \"#151516\"}, \"plot_bgcolor\": \"#E5E5E5\", \"title\": \"Percentage Relative Importance for Top 13 Variables \"}, {\"linkText\": \"Export to plot.ly\", \"showLink\": true})});</script>"
      ]
     },
     "metadata": {},
     "output_type": "display_data"
    }
   ],
   "source": [
    "dominance_regression.plot_incremental_rsquare()"
   ]
  },
  {
   "cell_type": "code",
   "execution_count": 12,
   "metadata": {},
   "outputs": [
    {
     "data": {
      "text/html": [
       "<div>\n",
       "<style scoped>\n",
       "    .dataframe tbody tr th:only-of-type {\n",
       "        vertical-align: middle;\n",
       "    }\n",
       "\n",
       "    .dataframe tbody tr th {\n",
       "        vertical-align: top;\n",
       "    }\n",
       "\n",
       "    .dataframe thead th {\n",
       "        text-align: right;\n",
       "    }\n",
       "</style>\n",
       "<table border=\"1\" class=\"dataframe\">\n",
       "  <thead>\n",
       "    <tr style=\"text-align: right;\">\n",
       "      <th></th>\n",
       "      <th>Interactional Dominance</th>\n",
       "      <th>Individual Dominance</th>\n",
       "      <th>Average Partial Dominance</th>\n",
       "      <th>Total Dominance</th>\n",
       "    </tr>\n",
       "  </thead>\n",
       "  <tbody>\n",
       "    <tr>\n",
       "      <th>LSTAT</th>\n",
       "      <td>0.0566556</td>\n",
       "      <td>0.544146</td>\n",
       "      <td>0.182376</td>\n",
       "      <td>0.200534</td>\n",
       "    </tr>\n",
       "    <tr>\n",
       "      <th>RM</th>\n",
       "      <td>0.0436813</td>\n",
       "      <td>0.483525</td>\n",
       "      <td>0.173109</td>\n",
       "      <td>0.187032</td>\n",
       "    </tr>\n",
       "    <tr>\n",
       "      <th>PTRATIO</th>\n",
       "      <td>0.0279973</td>\n",
       "      <td>0.257847</td>\n",
       "      <td>0.066863</td>\n",
       "      <td>0.0785643</td>\n",
       "    </tr>\n",
       "    <tr>\n",
       "      <th>INDUS</th>\n",
       "      <td>6.06634e-05</td>\n",
       "      <td>0.23399</td>\n",
       "      <td>0.023389</td>\n",
       "      <td>0.0377946</td>\n",
       "    </tr>\n",
       "    <tr>\n",
       "      <th>TAX</th>\n",
       "      <td>0.00566654</td>\n",
       "      <td>0.219526</td>\n",
       "      <td>0.023040</td>\n",
       "      <td>0.0368179</td>\n",
       "    </tr>\n",
       "    <tr>\n",
       "      <th>NOX</th>\n",
       "      <td>0.0114384</td>\n",
       "      <td>0.182603</td>\n",
       "      <td>0.021898</td>\n",
       "      <td>0.0334553</td>\n",
       "    </tr>\n",
       "    <tr>\n",
       "      <th>DIS</th>\n",
       "      <td>0.0288542</td>\n",
       "      <td>0.0624644</td>\n",
       "      <td>0.027480</td>\n",
       "      <td>0.0302768</td>\n",
       "    </tr>\n",
       "    <tr>\n",
       "      <th>CRIM</th>\n",
       "      <td>0.00565892</td>\n",
       "      <td>0.148866</td>\n",
       "      <td>0.017595</td>\n",
       "      <td>0.0267748</td>\n",
       "    </tr>\n",
       "    <tr>\n",
       "      <th>ZN</th>\n",
       "      <td>0.00602173</td>\n",
       "      <td>0.129921</td>\n",
       "      <td>0.016960</td>\n",
       "      <td>0.0248078</td>\n",
       "    </tr>\n",
       "    <tr>\n",
       "      <th>RAD</th>\n",
       "      <td>0.0111941</td>\n",
       "      <td>0.145639</td>\n",
       "      <td>0.013663</td>\n",
       "      <td>0.0236252</td>\n",
       "    </tr>\n",
       "    <tr>\n",
       "      <th>B</th>\n",
       "      <td>0.00645897</td>\n",
       "      <td>0.111196</td>\n",
       "      <td>0.016511</td>\n",
       "      <td>0.0230213</td>\n",
       "    </tr>\n",
       "    <tr>\n",
       "      <th>AGE</th>\n",
       "      <td>1.70407e-06</td>\n",
       "      <td>0.142095</td>\n",
       "      <td>0.013140</td>\n",
       "      <td>0.022049</td>\n",
       "    </tr>\n",
       "    <tr>\n",
       "      <th>CHAS</th>\n",
       "      <td>0.00513338</td>\n",
       "      <td>0.0307161</td>\n",
       "      <td>0.015479</td>\n",
       "      <td>0.0158552</td>\n",
       "    </tr>\n",
       "  </tbody>\n",
       "</table>\n",
       "</div>"
      ],
      "text/plain": [
       "        Interactional Dominance Individual Dominance  \\\n",
       "LSTAT                 0.0566556             0.544146   \n",
       "RM                    0.0436813             0.483525   \n",
       "PTRATIO               0.0279973             0.257847   \n",
       "INDUS               6.06634e-05              0.23399   \n",
       "TAX                  0.00566654             0.219526   \n",
       "NOX                   0.0114384             0.182603   \n",
       "DIS                   0.0288542            0.0624644   \n",
       "CRIM                 0.00565892             0.148866   \n",
       "ZN                   0.00602173             0.129921   \n",
       "RAD                   0.0111941             0.145639   \n",
       "B                    0.00645897             0.111196   \n",
       "AGE                 1.70407e-06             0.142095   \n",
       "CHAS                 0.00513338            0.0307161   \n",
       "\n",
       "         Average Partial Dominance Total Dominance  \n",
       "LSTAT                     0.182376        0.200534  \n",
       "RM                        0.173109        0.187032  \n",
       "PTRATIO                   0.066863       0.0785643  \n",
       "INDUS                     0.023389       0.0377946  \n",
       "TAX                       0.023040       0.0368179  \n",
       "NOX                       0.021898       0.0334553  \n",
       "DIS                       0.027480       0.0302768  \n",
       "CRIM                      0.017595       0.0267748  \n",
       "ZN                        0.016960       0.0248078  \n",
       "RAD                       0.013663       0.0236252  \n",
       "B                         0.016511       0.0230213  \n",
       "AGE                       0.013140        0.022049  \n",
       "CHAS                      0.015479       0.0158552  "
      ]
     },
     "execution_count": 12,
     "metadata": {},
     "output_type": "execute_result"
    }
   ],
   "source": [
    "dominance_regression.domiance_stats()"
   ]
  }
 ],
 "metadata": {
  "anaconda-cloud": {},
  "kernelspec": {
   "display_name": "Python [conda root]",
   "language": "python",
   "name": "conda-root-py"
  },
  "language_info": {
   "codemirror_mode": {
    "name": "ipython",
    "version": 3
   },
   "file_extension": ".py",
   "mimetype": "text/x-python",
   "name": "python",
   "nbconvert_exporter": "python",
   "pygments_lexer": "ipython3",
   "version": "3.5.2"
  }
 },
 "nbformat": 4,
 "nbformat_minor": 2
}
