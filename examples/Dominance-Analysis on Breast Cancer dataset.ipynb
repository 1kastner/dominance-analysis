{
 "cells": [
  {
   "cell_type": "code",
   "execution_count": 1,
   "metadata": {},
   "outputs": [
    {
     "data": {
      "text/html": [
       "<script>requirejs.config({paths: { 'plotly': ['https://cdn.plot.ly/plotly-latest.min']},});if(!window.Plotly) {{require(['plotly'],function(plotly) {window.Plotly=plotly;});}}</script>"
      ],
      "text/vnd.plotly.v1+html": [
       "<script>requirejs.config({paths: { 'plotly': ['https://cdn.plot.ly/plotly-latest.min']},});if(!window.Plotly) {{require(['plotly'],function(plotly) {window.Plotly=plotly;});}}</script>"
      ]
     },
     "metadata": {},
     "output_type": "display_data"
    }
   ],
   "source": [
    "from dominance_analysis import Dominance_Datasets\n",
    "from dominance_analysis import Dominance"
   ]
  },
  {
   "cell_type": "code",
   "execution_count": 2,
   "metadata": {},
   "outputs": [
    {
     "name": "stdout",
     "output_type": "stream",
     "text": [
      "The copy of UCI ML Breast Cancer Wisconsin (Diagnostic) dataset is downloaded from: https://goo.gl/U2Uwz2\n",
      "Internally using load_breast_cancer function from sklearn.datasets \n"
     ]
    }
   ],
   "source": [
    "breast_cancer_data=Dominance_Datasets.get_breast_cancer()"
   ]
  },
  {
   "cell_type": "code",
   "execution_count": 3,
   "metadata": {},
   "outputs": [
    {
     "data": {
      "text/html": [
       "<div>\n",
       "<style scoped>\n",
       "    .dataframe tbody tr th:only-of-type {\n",
       "        vertical-align: middle;\n",
       "    }\n",
       "\n",
       "    .dataframe tbody tr th {\n",
       "        vertical-align: top;\n",
       "    }\n",
       "\n",
       "    .dataframe thead th {\n",
       "        text-align: right;\n",
       "    }\n",
       "</style>\n",
       "<table border=\"1\" class=\"dataframe\">\n",
       "  <thead>\n",
       "    <tr style=\"text-align: right;\">\n",
       "      <th></th>\n",
       "      <th>mean radius</th>\n",
       "      <th>mean texture</th>\n",
       "      <th>mean perimeter</th>\n",
       "      <th>mean area</th>\n",
       "      <th>mean smoothness</th>\n",
       "      <th>mean compactness</th>\n",
       "      <th>mean concavity</th>\n",
       "      <th>mean concave points</th>\n",
       "      <th>mean symmetry</th>\n",
       "      <th>mean fractal dimension</th>\n",
       "      <th>...</th>\n",
       "      <th>worst texture</th>\n",
       "      <th>worst perimeter</th>\n",
       "      <th>worst area</th>\n",
       "      <th>worst smoothness</th>\n",
       "      <th>worst compactness</th>\n",
       "      <th>worst concavity</th>\n",
       "      <th>worst concave points</th>\n",
       "      <th>worst symmetry</th>\n",
       "      <th>worst fractal dimension</th>\n",
       "      <th>target</th>\n",
       "    </tr>\n",
       "  </thead>\n",
       "  <tbody>\n",
       "    <tr>\n",
       "      <th>0</th>\n",
       "      <td>17.99</td>\n",
       "      <td>10.38</td>\n",
       "      <td>122.80</td>\n",
       "      <td>1001.0</td>\n",
       "      <td>0.11840</td>\n",
       "      <td>0.27760</td>\n",
       "      <td>0.3001</td>\n",
       "      <td>0.14710</td>\n",
       "      <td>0.2419</td>\n",
       "      <td>0.07871</td>\n",
       "      <td>...</td>\n",
       "      <td>17.33</td>\n",
       "      <td>184.60</td>\n",
       "      <td>2019.0</td>\n",
       "      <td>0.1622</td>\n",
       "      <td>0.6656</td>\n",
       "      <td>0.7119</td>\n",
       "      <td>0.2654</td>\n",
       "      <td>0.4601</td>\n",
       "      <td>0.11890</td>\n",
       "      <td>0</td>\n",
       "    </tr>\n",
       "    <tr>\n",
       "      <th>1</th>\n",
       "      <td>20.57</td>\n",
       "      <td>17.77</td>\n",
       "      <td>132.90</td>\n",
       "      <td>1326.0</td>\n",
       "      <td>0.08474</td>\n",
       "      <td>0.07864</td>\n",
       "      <td>0.0869</td>\n",
       "      <td>0.07017</td>\n",
       "      <td>0.1812</td>\n",
       "      <td>0.05667</td>\n",
       "      <td>...</td>\n",
       "      <td>23.41</td>\n",
       "      <td>158.80</td>\n",
       "      <td>1956.0</td>\n",
       "      <td>0.1238</td>\n",
       "      <td>0.1866</td>\n",
       "      <td>0.2416</td>\n",
       "      <td>0.1860</td>\n",
       "      <td>0.2750</td>\n",
       "      <td>0.08902</td>\n",
       "      <td>0</td>\n",
       "    </tr>\n",
       "    <tr>\n",
       "      <th>2</th>\n",
       "      <td>19.69</td>\n",
       "      <td>21.25</td>\n",
       "      <td>130.00</td>\n",
       "      <td>1203.0</td>\n",
       "      <td>0.10960</td>\n",
       "      <td>0.15990</td>\n",
       "      <td>0.1974</td>\n",
       "      <td>0.12790</td>\n",
       "      <td>0.2069</td>\n",
       "      <td>0.05999</td>\n",
       "      <td>...</td>\n",
       "      <td>25.53</td>\n",
       "      <td>152.50</td>\n",
       "      <td>1709.0</td>\n",
       "      <td>0.1444</td>\n",
       "      <td>0.4245</td>\n",
       "      <td>0.4504</td>\n",
       "      <td>0.2430</td>\n",
       "      <td>0.3613</td>\n",
       "      <td>0.08758</td>\n",
       "      <td>0</td>\n",
       "    </tr>\n",
       "    <tr>\n",
       "      <th>3</th>\n",
       "      <td>11.42</td>\n",
       "      <td>20.38</td>\n",
       "      <td>77.58</td>\n",
       "      <td>386.1</td>\n",
       "      <td>0.14250</td>\n",
       "      <td>0.28390</td>\n",
       "      <td>0.2414</td>\n",
       "      <td>0.10520</td>\n",
       "      <td>0.2597</td>\n",
       "      <td>0.09744</td>\n",
       "      <td>...</td>\n",
       "      <td>26.50</td>\n",
       "      <td>98.87</td>\n",
       "      <td>567.7</td>\n",
       "      <td>0.2098</td>\n",
       "      <td>0.8663</td>\n",
       "      <td>0.6869</td>\n",
       "      <td>0.2575</td>\n",
       "      <td>0.6638</td>\n",
       "      <td>0.17300</td>\n",
       "      <td>0</td>\n",
       "    </tr>\n",
       "    <tr>\n",
       "      <th>4</th>\n",
       "      <td>20.29</td>\n",
       "      <td>14.34</td>\n",
       "      <td>135.10</td>\n",
       "      <td>1297.0</td>\n",
       "      <td>0.10030</td>\n",
       "      <td>0.13280</td>\n",
       "      <td>0.1980</td>\n",
       "      <td>0.10430</td>\n",
       "      <td>0.1809</td>\n",
       "      <td>0.05883</td>\n",
       "      <td>...</td>\n",
       "      <td>16.67</td>\n",
       "      <td>152.20</td>\n",
       "      <td>1575.0</td>\n",
       "      <td>0.1374</td>\n",
       "      <td>0.2050</td>\n",
       "      <td>0.4000</td>\n",
       "      <td>0.1625</td>\n",
       "      <td>0.2364</td>\n",
       "      <td>0.07678</td>\n",
       "      <td>0</td>\n",
       "    </tr>\n",
       "  </tbody>\n",
       "</table>\n",
       "<p>5 rows × 31 columns</p>\n",
       "</div>"
      ],
      "text/plain": [
       "   mean radius  mean texture  mean perimeter  mean area  mean smoothness  \\\n",
       "0        17.99         10.38          122.80     1001.0          0.11840   \n",
       "1        20.57         17.77          132.90     1326.0          0.08474   \n",
       "2        19.69         21.25          130.00     1203.0          0.10960   \n",
       "3        11.42         20.38           77.58      386.1          0.14250   \n",
       "4        20.29         14.34          135.10     1297.0          0.10030   \n",
       "\n",
       "   mean compactness  mean concavity  mean concave points  mean symmetry  \\\n",
       "0           0.27760          0.3001              0.14710         0.2419   \n",
       "1           0.07864          0.0869              0.07017         0.1812   \n",
       "2           0.15990          0.1974              0.12790         0.2069   \n",
       "3           0.28390          0.2414              0.10520         0.2597   \n",
       "4           0.13280          0.1980              0.10430         0.1809   \n",
       "\n",
       "   mean fractal dimension   ...    worst texture  worst perimeter  worst area  \\\n",
       "0                 0.07871   ...            17.33           184.60      2019.0   \n",
       "1                 0.05667   ...            23.41           158.80      1956.0   \n",
       "2                 0.05999   ...            25.53           152.50      1709.0   \n",
       "3                 0.09744   ...            26.50            98.87       567.7   \n",
       "4                 0.05883   ...            16.67           152.20      1575.0   \n",
       "\n",
       "   worst smoothness  worst compactness  worst concavity  worst concave points  \\\n",
       "0            0.1622             0.6656           0.7119                0.2654   \n",
       "1            0.1238             0.1866           0.2416                0.1860   \n",
       "2            0.1444             0.4245           0.4504                0.2430   \n",
       "3            0.2098             0.8663           0.6869                0.2575   \n",
       "4            0.1374             0.2050           0.4000                0.1625   \n",
       "\n",
       "   worst symmetry  worst fractal dimension  target  \n",
       "0          0.4601                  0.11890       0  \n",
       "1          0.2750                  0.08902       0  \n",
       "2          0.3613                  0.08758       0  \n",
       "3          0.6638                  0.17300       0  \n",
       "4          0.2364                  0.07678       0  \n",
       "\n",
       "[5 rows x 31 columns]"
      ]
     },
     "execution_count": 3,
     "metadata": {},
     "output_type": "execute_result"
    }
   ],
   "source": [
    "breast_cancer_data.head()"
   ]
  },
  {
   "cell_type": "code",
   "execution_count": 8,
   "metadata": {},
   "outputs": [
    {
     "name": "stdout",
     "output_type": "stream",
     "text": [
      "Selecting 15 Best Predictors for the Model\n",
      "Selected Predictors :  ['mean radius', 'mean texture', 'mean perimeter', 'mean area', 'mean concavity', 'radius error', 'perimeter error', 'area error', 'worst radius', 'worst texture', 'worst perimeter', 'worst area', 'worst compactness', 'worst concavity', 'worst concave points']\n",
      "\n",
      "********************  Pseudo R-Squared of Complete Model :  ********************\n",
      "\n",
      "MacFadden's R-Squared : 0.9004663619680687 \n",
      "\n",
      "Nagelkerke R-Squared : 0.9488388183764581 \n",
      "\n",
      "Cox and Snell R-Squared : 0.6955307924396432 \n",
      "\n",
      "Estrella R-Squared : 0.9525008042592964 \n",
      "\n"
     ]
    }
   ],
   "source": [
    "dominance_classification=Dominance(data=breast_cancer_data,target='target',objective=0,pseudo_r2=\"mcfadden\")"
   ]
  },
  {
   "cell_type": "code",
   "execution_count": 9,
   "metadata": {},
   "outputs": [
    {
     "name": "stdout",
     "output_type": "stream",
     "text": [
      "Selecting 15 Best Predictors for the Model\n",
      "Selected Predictors :  ['mean radius', 'mean texture', 'mean perimeter', 'mean area', 'mean concavity', 'radius error', 'perimeter error', 'area error', 'worst radius', 'worst texture', 'worst perimeter', 'worst area', 'worst compactness', 'worst concavity', 'worst concave points']\n",
      "\n",
      "Creating models for 32767 possible combinations of 15 features :\n"
     ]
    },
    {
     "name": "stderr",
     "output_type": "stream",
     "text": [
      "100%|██████████████████████████████████████████████████████████████████████████████████| 15/15 [05:27<00:00, 21.81s/it]\n"
     ]
    },
    {
     "name": "stdout",
     "output_type": "stream",
     "text": [
      "#########################  Model Training Done!!!!!  #########################\n",
      "\n",
      "#########################  Calculating Variable Dominances  #########################\n"
     ]
    },
    {
     "name": "stderr",
     "output_type": "stream",
     "text": [
      "100%|██████████████████████████████████████████████████████████████████████████████████| 14/14 [03:29<00:00, 14.97s/it]\n"
     ]
    },
    {
     "name": "stdout",
     "output_type": "stream",
     "text": [
      "#########################  Variable Dominance Calculation Done!!!!!  #########################\n",
      "\n"
     ]
    },
    {
     "data": {
      "text/plain": [
       "{'area error': 0.08729236093428248,\n",
       " 'mean area': 0.08914594825390441,\n",
       " 'mean concavity': 0.03737226992397792,\n",
       " 'mean perimeter': 0.08674338485009757,\n",
       " 'mean radius': 0.10103729292808232,\n",
       " 'mean texture': 0.048867805248020035,\n",
       " 'perimeter error': 0.01870533918205835,\n",
       " 'radius error': 0.030654993687185775,\n",
       " 'worst area': 0.13213879454423585,\n",
       " 'worst compactness': 0.017702153855682908,\n",
       " 'worst concave points': 0.06093001021701729,\n",
       " 'worst concavity': 0.022610740435718223,\n",
       " 'worst perimeter': 0.06242609811597452,\n",
       " 'worst radius': 0.06229545176149031,\n",
       " 'worst texture': 0.04254371803034075}"
      ]
     },
     "execution_count": 9,
     "metadata": {},
     "output_type": "execute_result"
    }
   ],
   "source": [
    "dominance_classification.incremental_rsquare()"
   ]
  },
  {
   "cell_type": "code",
   "execution_count": 10,
   "metadata": {},
   "outputs": [
    {
     "data": {
      "application/vnd.plotly.v1+json": {
       "data": [
        {
         "marker": {
          "color": "rgba(226, 74, 51, 0.6)",
          "line": {
           "color": "rgba(226, 74, 51, 1.0)",
           "width": 1
          }
         },
         "name": "incremental_r2",
         "orientation": "v",
         "text": "",
         "type": "bar",
         "x": [
          "worst area",
          "mean radius",
          "mean area",
          "area error",
          "mean perimeter",
          "worst perimeter",
          "worst radius",
          "worst concave points",
          "mean texture",
          "worst texture",
          "mean concavity",
          "radius error",
          "worst concavity",
          "perimeter error",
          "worst compactness"
         ],
         "y": [
          0.13213879454423585,
          0.10103729292808232,
          0.08914594825390441,
          0.08729236093428248,
          0.08674338485009757,
          0.06242609811597452,
          0.06229545176149031,
          0.06093001021701729,
          0.048867805248020035,
          0.04254371803034075,
          0.03737226992397792,
          0.030654993687185775,
          0.022610740435718223,
          0.01870533918205835,
          0.017702153855682908
         ]
        }
       ],
       "layout": {
        "legend": {
         "bgcolor": "#FFFFFF",
         "font": {
          "color": "#666666"
         }
        },
        "paper_bgcolor": "#FFFFFF",
        "plot_bgcolor": "#E5E5E5",
        "title": "Incremetal Pseudo R Squared for Top 15 Variables ",
        "titlefont": {
         "color": "#151516"
        },
        "xaxis1": {
         "gridcolor": "#F6F6F6",
         "showgrid": true,
         "tickfont": {
          "color": "#666666"
         },
         "title": "Estimators",
         "titlefont": {
          "color": "#666666"
         },
         "zerolinecolor": "#F6F6F6"
        },
        "yaxis1": {
         "gridcolor": "#F6F6F6",
         "showgrid": true,
         "tickfont": {
          "color": "#666666"
         },
         "title": "Incremental R2",
         "titlefont": {
          "color": "#666666"
         },
         "zerolinecolor": "#F6F6F6"
        }
       }
      },
      "text/html": [
       "<div id=\"a2c6da57-faf2-4cd0-b2b3-319f71af97b1\" style=\"height: 525px; width: 100%;\" class=\"plotly-graph-div\"></div><script type=\"text/javascript\">require([\"plotly\"], function(Plotly) { window.PLOTLYENV=window.PLOTLYENV || {};window.PLOTLYENV.BASE_URL=\"https://plot.ly\";Plotly.newPlot(\"a2c6da57-faf2-4cd0-b2b3-319f71af97b1\", [{\"orientation\": \"v\", \"marker\": {\"color\": \"rgba(226, 74, 51, 0.6)\", \"line\": {\"color\": \"rgba(226, 74, 51, 1.0)\", \"width\": 1}}, \"text\": \"\", \"type\": \"bar\", \"x\": [\"worst area\", \"mean radius\", \"mean area\", \"area error\", \"mean perimeter\", \"worst perimeter\", \"worst radius\", \"worst concave points\", \"mean texture\", \"worst texture\", \"mean concavity\", \"radius error\", \"worst concavity\", \"perimeter error\", \"worst compactness\"], \"name\": \"incremental_r2\", \"y\": [0.13213879454423585, 0.10103729292808232, 0.08914594825390441, 0.08729236093428248, 0.08674338485009757, 0.06242609811597452, 0.06229545176149031, 0.06093001021701729, 0.048867805248020035, 0.04254371803034075, 0.03737226992397792, 0.030654993687185775, 0.022610740435718223, 0.01870533918205835, 0.017702153855682908]}], {\"legend\": {\"font\": {\"color\": \"#666666\"}, \"bgcolor\": \"#FFFFFF\"}, \"xaxis1\": {\"title\": \"Estimators\", \"zerolinecolor\": \"#F6F6F6\", \"titlefont\": {\"color\": \"#666666\"}, \"showgrid\": true, \"gridcolor\": \"#F6F6F6\", \"tickfont\": {\"color\": \"#666666\"}}, \"paper_bgcolor\": \"#FFFFFF\", \"title\": \"Incremetal Pseudo R Squared for Top 15 Variables \", \"yaxis1\": {\"title\": \"Incremental R2\", \"zerolinecolor\": \"#F6F6F6\", \"titlefont\": {\"color\": \"#666666\"}, \"showgrid\": true, \"gridcolor\": \"#F6F6F6\", \"tickfont\": {\"color\": \"#666666\"}}, \"titlefont\": {\"color\": \"#151516\"}, \"plot_bgcolor\": \"#E5E5E5\"}, {\"showLink\": true, \"linkText\": \"Export to plot.ly\"})});</script>"
      ],
      "text/vnd.plotly.v1+html": [
       "<div id=\"a2c6da57-faf2-4cd0-b2b3-319f71af97b1\" style=\"height: 525px; width: 100%;\" class=\"plotly-graph-div\"></div><script type=\"text/javascript\">require([\"plotly\"], function(Plotly) { window.PLOTLYENV=window.PLOTLYENV || {};window.PLOTLYENV.BASE_URL=\"https://plot.ly\";Plotly.newPlot(\"a2c6da57-faf2-4cd0-b2b3-319f71af97b1\", [{\"orientation\": \"v\", \"marker\": {\"color\": \"rgba(226, 74, 51, 0.6)\", \"line\": {\"color\": \"rgba(226, 74, 51, 1.0)\", \"width\": 1}}, \"text\": \"\", \"type\": \"bar\", \"x\": [\"worst area\", \"mean radius\", \"mean area\", \"area error\", \"mean perimeter\", \"worst perimeter\", \"worst radius\", \"worst concave points\", \"mean texture\", \"worst texture\", \"mean concavity\", \"radius error\", \"worst concavity\", \"perimeter error\", \"worst compactness\"], \"name\": \"incremental_r2\", \"y\": [0.13213879454423585, 0.10103729292808232, 0.08914594825390441, 0.08729236093428248, 0.08674338485009757, 0.06242609811597452, 0.06229545176149031, 0.06093001021701729, 0.048867805248020035, 0.04254371803034075, 0.03737226992397792, 0.030654993687185775, 0.022610740435718223, 0.01870533918205835, 0.017702153855682908]}], {\"legend\": {\"font\": {\"color\": \"#666666\"}, \"bgcolor\": \"#FFFFFF\"}, \"xaxis1\": {\"title\": \"Estimators\", \"zerolinecolor\": \"#F6F6F6\", \"titlefont\": {\"color\": \"#666666\"}, \"showgrid\": true, \"gridcolor\": \"#F6F6F6\", \"tickfont\": {\"color\": \"#666666\"}}, \"paper_bgcolor\": \"#FFFFFF\", \"title\": \"Incremetal Pseudo R Squared for Top 15 Variables \", \"yaxis1\": {\"title\": \"Incremental R2\", \"zerolinecolor\": \"#F6F6F6\", \"titlefont\": {\"color\": \"#666666\"}, \"showgrid\": true, \"gridcolor\": \"#F6F6F6\", \"tickfont\": {\"color\": \"#666666\"}}, \"titlefont\": {\"color\": \"#151516\"}, \"plot_bgcolor\": \"#E5E5E5\"}, {\"showLink\": true, \"linkText\": \"Export to plot.ly\"})});</script>"
      ]
     },
     "metadata": {},
     "output_type": "display_data"
    },
    {
     "data": {
      "application/vnd.plotly.v1+json": {
       "data": [
        {
         "labels": [
          "worst area",
          "mean radius",
          "mean area",
          "area error",
          "mean perimeter",
          "worst perimeter",
          "worst radius",
          "worst concave points",
          "mean texture",
          "worst texture",
          "mean concavity",
          "radius error",
          "worst concavity",
          "perimeter error",
          "worst compactness"
         ],
         "marker": {
          "colors": [
           "rgba(226, 74, 51, 1.0)",
           "rgba(62, 111, 176, 1.0)",
           "rgba(132, 118, 202, 1.0)",
           "rgba(101, 101, 101, 1.0)",
           "rgba(251, 193, 94, 1.0)",
           "rgba(142, 186, 66, 1.0)",
           "rgba(255, 181, 184, 1.0)",
           "rgba(255, 181, 184, 0.8999999999999999)",
           "rgba(226, 74, 51, 0.8999999999999999)",
           "rgba(62, 111, 176, 0.8999999999999999)",
           "rgba(132, 118, 202, 0.8999999999999999)",
           "rgba(101, 101, 101, 0.8999999999999999)",
           "rgba(251, 193, 94, 0.8999999999999999)",
           "rgba(142, 186, 66, 0.8999999999999999)",
           "rgba(142, 186, 66, 0.7999999999999998)"
          ]
         },
         "name": "",
         "type": "pie",
         "values": [
          14.674484258960204,
          11.220551615859826,
          9.899975392647217,
          9.694127912062743,
          9.633162160606458,
          6.9326407684497395,
          6.918132024980558,
          6.766494873150846,
          5.426944005016917,
          4.724631571728761,
          4.150323821347052,
          3.4043463456187197,
          2.5110033412353077,
          2.077294607782546,
          1.9658873005531152
         ]
        }
       ],
       "layout": {
        "legend": {
         "bgcolor": "#FFFFFF",
         "font": {
          "color": "#666666"
         }
        },
        "paper_bgcolor": "#FFFFFF",
        "plot_bgcolor": "#E5E5E5",
        "title": "Percentage Relative Importance for Top 15 Variables ",
        "titlefont": {
         "color": "#151516"
        }
       }
      },
      "text/html": [
       "<div id=\"b3d8034a-3405-40ce-8ea6-8106a8eab6b6\" style=\"height: 525px; width: 100%;\" class=\"plotly-graph-div\"></div><script type=\"text/javascript\">require([\"plotly\"], function(Plotly) { window.PLOTLYENV=window.PLOTLYENV || {};window.PLOTLYENV.BASE_URL=\"https://plot.ly\";Plotly.newPlot(\"b3d8034a-3405-40ce-8ea6-8106a8eab6b6\", [{\"labels\": [\"worst area\", \"mean radius\", \"mean area\", \"area error\", \"mean perimeter\", \"worst perimeter\", \"worst radius\", \"worst concave points\", \"mean texture\", \"worst texture\", \"mean concavity\", \"radius error\", \"worst concavity\", \"perimeter error\", \"worst compactness\"], \"type\": \"pie\", \"marker\": {\"colors\": [\"rgba(226, 74, 51, 1.0)\", \"rgba(62, 111, 176, 1.0)\", \"rgba(132, 118, 202, 1.0)\", \"rgba(101, 101, 101, 1.0)\", \"rgba(251, 193, 94, 1.0)\", \"rgba(142, 186, 66, 1.0)\", \"rgba(255, 181, 184, 1.0)\", \"rgba(255, 181, 184, 0.8999999999999999)\", \"rgba(226, 74, 51, 0.8999999999999999)\", \"rgba(62, 111, 176, 0.8999999999999999)\", \"rgba(132, 118, 202, 0.8999999999999999)\", \"rgba(101, 101, 101, 0.8999999999999999)\", \"rgba(251, 193, 94, 0.8999999999999999)\", \"rgba(142, 186, 66, 0.8999999999999999)\", \"rgba(142, 186, 66, 0.7999999999999998)\"]}, \"name\": \"\", \"values\": [14.674484258960204, 11.220551615859826, 9.899975392647217, 9.694127912062743, 9.633162160606458, 6.9326407684497395, 6.918132024980558, 6.766494873150846, 5.426944005016917, 4.724631571728761, 4.150323821347052, 3.4043463456187197, 2.5110033412353077, 2.077294607782546, 1.9658873005531152]}], {\"legend\": {\"font\": {\"color\": \"#666666\"}, \"bgcolor\": \"#FFFFFF\"}, \"titlefont\": {\"color\": \"#151516\"}, \"paper_bgcolor\": \"#FFFFFF\", \"title\": \"Percentage Relative Importance for Top 15 Variables \", \"plot_bgcolor\": \"#E5E5E5\"}, {\"showLink\": true, \"linkText\": \"Export to plot.ly\"})});</script>"
      ],
      "text/vnd.plotly.v1+html": [
       "<div id=\"b3d8034a-3405-40ce-8ea6-8106a8eab6b6\" style=\"height: 525px; width: 100%;\" class=\"plotly-graph-div\"></div><script type=\"text/javascript\">require([\"plotly\"], function(Plotly) { window.PLOTLYENV=window.PLOTLYENV || {};window.PLOTLYENV.BASE_URL=\"https://plot.ly\";Plotly.newPlot(\"b3d8034a-3405-40ce-8ea6-8106a8eab6b6\", [{\"labels\": [\"worst area\", \"mean radius\", \"mean area\", \"area error\", \"mean perimeter\", \"worst perimeter\", \"worst radius\", \"worst concave points\", \"mean texture\", \"worst texture\", \"mean concavity\", \"radius error\", \"worst concavity\", \"perimeter error\", \"worst compactness\"], \"type\": \"pie\", \"marker\": {\"colors\": [\"rgba(226, 74, 51, 1.0)\", \"rgba(62, 111, 176, 1.0)\", \"rgba(132, 118, 202, 1.0)\", \"rgba(101, 101, 101, 1.0)\", \"rgba(251, 193, 94, 1.0)\", \"rgba(142, 186, 66, 1.0)\", \"rgba(255, 181, 184, 1.0)\", \"rgba(255, 181, 184, 0.8999999999999999)\", \"rgba(226, 74, 51, 0.8999999999999999)\", \"rgba(62, 111, 176, 0.8999999999999999)\", \"rgba(132, 118, 202, 0.8999999999999999)\", \"rgba(101, 101, 101, 0.8999999999999999)\", \"rgba(251, 193, 94, 0.8999999999999999)\", \"rgba(142, 186, 66, 0.8999999999999999)\", \"rgba(142, 186, 66, 0.7999999999999998)\"]}, \"name\": \"\", \"values\": [14.674484258960204, 11.220551615859826, 9.899975392647217, 9.694127912062743, 9.633162160606458, 6.9326407684497395, 6.918132024980558, 6.766494873150846, 5.426944005016917, 4.724631571728761, 4.150323821347052, 3.4043463456187197, 2.5110033412353077, 2.077294607782546, 1.9658873005531152]}], {\"legend\": {\"font\": {\"color\": \"#666666\"}, \"bgcolor\": \"#FFFFFF\"}, \"titlefont\": {\"color\": \"#151516\"}, \"paper_bgcolor\": \"#FFFFFF\", \"title\": \"Percentage Relative Importance for Top 15 Variables \", \"plot_bgcolor\": \"#E5E5E5\"}, {\"showLink\": true, \"linkText\": \"Export to plot.ly\"})});</script>"
      ]
     },
     "metadata": {},
     "output_type": "display_data"
    }
   ],
   "source": [
    "dominance_classification.plot_incremental_rsquare()"
   ]
  },
  {
   "cell_type": "code",
   "execution_count": 11,
   "metadata": {},
   "outputs": [
    {
     "data": {
      "text/html": [
       "<div>\n",
       "<style scoped>\n",
       "    .dataframe tbody tr th:only-of-type {\n",
       "        vertical-align: middle;\n",
       "    }\n",
       "\n",
       "    .dataframe tbody tr th {\n",
       "        vertical-align: top;\n",
       "    }\n",
       "\n",
       "    .dataframe thead th {\n",
       "        text-align: right;\n",
       "    }\n",
       "</style>\n",
       "<table border=\"1\" class=\"dataframe\">\n",
       "  <thead>\n",
       "    <tr style=\"text-align: right;\">\n",
       "      <th></th>\n",
       "      <th>Interactional Dominance</th>\n",
       "      <th>Individual Dominance</th>\n",
       "      <th>Average Partial Dominance</th>\n",
       "      <th>Total Dominance</th>\n",
       "    </tr>\n",
       "  </thead>\n",
       "  <tbody>\n",
       "    <tr>\n",
       "      <th>worst area</th>\n",
       "      <td>0.000274322</td>\n",
       "      <td>-0.0272115</td>\n",
       "      <td>0.154540</td>\n",
       "      <td>0.132139</td>\n",
       "    </tr>\n",
       "    <tr>\n",
       "      <th>mean radius</th>\n",
       "      <td>0.00232635</td>\n",
       "      <td>-0.0452768</td>\n",
       "      <td>0.119885</td>\n",
       "      <td>0.101037</td>\n",
       "    </tr>\n",
       "    <tr>\n",
       "      <th>mean area</th>\n",
       "      <td>0.00236427</td>\n",
       "      <td>-0.042149</td>\n",
       "      <td>0.105921</td>\n",
       "      <td>0.0891459</td>\n",
       "    </tr>\n",
       "    <tr>\n",
       "      <th>area error</th>\n",
       "      <td>0.000641547</td>\n",
       "      <td>-0.00388352</td>\n",
       "      <td>0.100971</td>\n",
       "      <td>0.0872924</td>\n",
       "    </tr>\n",
       "    <tr>\n",
       "      <th>mean perimeter</th>\n",
       "      <td>0.000141678</td>\n",
       "      <td>-0.0467017</td>\n",
       "      <td>0.103670</td>\n",
       "      <td>0.0867434</td>\n",
       "    </tr>\n",
       "    <tr>\n",
       "      <th>worst perimeter</th>\n",
       "      <td>0.000109901</td>\n",
       "      <td>-0.0494996</td>\n",
       "      <td>0.075829</td>\n",
       "      <td>0.0624261</td>\n",
       "    </tr>\n",
       "    <tr>\n",
       "      <th>worst radius</th>\n",
       "      <td>0.000399317</td>\n",
       "      <td>-0.0490081</td>\n",
       "      <td>0.075619</td>\n",
       "      <td>0.0622955</td>\n",
       "    </tr>\n",
       "    <tr>\n",
       "      <th>worst concave points</th>\n",
       "      <td>0.0327972</td>\n",
       "      <td>-0.0300576</td>\n",
       "      <td>0.070093</td>\n",
       "      <td>0.06093</td>\n",
       "    </tr>\n",
       "    <tr>\n",
       "      <th>mean texture</th>\n",
       "      <td>0.000994787</td>\n",
       "      <td>-0.0298806</td>\n",
       "      <td>0.058608</td>\n",
       "      <td>0.0488678</td>\n",
       "    </tr>\n",
       "    <tr>\n",
       "      <th>worst texture</th>\n",
       "      <td>0.00385564</td>\n",
       "      <td>-0.0337125</td>\n",
       "      <td>0.051386</td>\n",
       "      <td>0.0425437</td>\n",
       "    </tr>\n",
       "    <tr>\n",
       "      <th>mean concavity</th>\n",
       "      <td>0.000409559</td>\n",
       "      <td>0.00389357</td>\n",
       "      <td>0.042791</td>\n",
       "      <td>0.0373723</td>\n",
       "    </tr>\n",
       "    <tr>\n",
       "      <th>radius error</th>\n",
       "      <td>7.16598e-05</td>\n",
       "      <td>-0.0421988</td>\n",
       "      <td>0.038612</td>\n",
       "      <td>0.030655</td>\n",
       "    </tr>\n",
       "    <tr>\n",
       "      <th>worst concavity</th>\n",
       "      <td>0.000281084</td>\n",
       "      <td>-0.0231755</td>\n",
       "      <td>0.027850</td>\n",
       "      <td>0.0226107</td>\n",
       "    </tr>\n",
       "    <tr>\n",
       "      <th>perimeter error</th>\n",
       "      <td>0.000228858</td>\n",
       "      <td>-0.0418284</td>\n",
       "      <td>0.024783</td>\n",
       "      <td>0.0187053</td>\n",
       "    </tr>\n",
       "    <tr>\n",
       "      <th>worst compactness</th>\n",
       "      <td>0.000626705</td>\n",
       "      <td>-0.0443882</td>\n",
       "      <td>0.023792</td>\n",
       "      <td>0.0177022</td>\n",
       "    </tr>\n",
       "  </tbody>\n",
       "</table>\n",
       "</div>"
      ],
      "text/plain": [
       "                     Interactional Dominance Individual Dominance  \\\n",
       "worst area                       0.000274322           -0.0272115   \n",
       "mean radius                       0.00232635           -0.0452768   \n",
       "mean area                         0.00236427            -0.042149   \n",
       "area error                       0.000641547          -0.00388352   \n",
       "mean perimeter                   0.000141678           -0.0467017   \n",
       "worst perimeter                  0.000109901           -0.0494996   \n",
       "worst radius                     0.000399317           -0.0490081   \n",
       "worst concave points               0.0327972           -0.0300576   \n",
       "mean texture                     0.000994787           -0.0298806   \n",
       "worst texture                     0.00385564           -0.0337125   \n",
       "mean concavity                   0.000409559           0.00389357   \n",
       "radius error                     7.16598e-05           -0.0421988   \n",
       "worst concavity                  0.000281084           -0.0231755   \n",
       "perimeter error                  0.000228858           -0.0418284   \n",
       "worst compactness                0.000626705           -0.0443882   \n",
       "\n",
       "                      Average Partial Dominance Total Dominance  \n",
       "worst area                             0.154540        0.132139  \n",
       "mean radius                            0.119885        0.101037  \n",
       "mean area                              0.105921       0.0891459  \n",
       "area error                             0.100971       0.0872924  \n",
       "mean perimeter                         0.103670       0.0867434  \n",
       "worst perimeter                        0.075829       0.0624261  \n",
       "worst radius                           0.075619       0.0622955  \n",
       "worst concave points                   0.070093         0.06093  \n",
       "mean texture                           0.058608       0.0488678  \n",
       "worst texture                          0.051386       0.0425437  \n",
       "mean concavity                         0.042791       0.0373723  \n",
       "radius error                           0.038612        0.030655  \n",
       "worst concavity                        0.027850       0.0226107  \n",
       "perimeter error                        0.024783       0.0187053  \n",
       "worst compactness                      0.023792       0.0177022  "
      ]
     },
     "execution_count": 11,
     "metadata": {},
     "output_type": "execute_result"
    }
   ],
   "source": [
    "dominance_classification.domiance_stats()"
   ]
  }
 ],
 "metadata": {
  "anaconda-cloud": {},
  "kernelspec": {
   "display_name": "Python [conda root]",
   "language": "python",
   "name": "conda-root-py"
  },
  "language_info": {
   "codemirror_mode": {
    "name": "ipython",
    "version": 3
   },
   "file_extension": ".py",
   "mimetype": "text/x-python",
   "name": "python",
   "nbconvert_exporter": "python",
   "pygments_lexer": "ipython3",
   "version": "3.5.2"
  }
 },
 "nbformat": 4,
 "nbformat_minor": 2
}
